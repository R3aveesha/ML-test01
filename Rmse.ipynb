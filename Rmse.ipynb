{
 "cells": [
  {
   "cell_type": "code",
   "execution_count": 7,
   "id": "357aa17e-71b2-402c-9bc3-618245e3024a",
   "metadata": {},
   "outputs": [],
   "source": [
    "import numpy as np\n",
    "import pandas as pd"
   ]
  },
  {
   "cell_type": "code",
   "execution_count": 13,
   "id": "c160aaa3-5b42-41c4-894b-5dd2dff4a99c",
   "metadata": {},
   "outputs": [],
   "source": [
    "df =pd.DataFrame({\n",
    "    'hours':[8,11,9,5,7.5,9.5,8,10.5,9,9.5,8,10.5,9,6.5,9],\n",
    "    'score':[56,70,51,24,30,66,48,30,66,48,36,42,61,39,87]\n",
    "})"
   ]
  },
  {
   "cell_type": "code",
   "execution_count": 15,
   "id": "42ea9e5a-7ca6-40d6-b5f6-2cf5951bd463",
   "metadata": {},
   "outputs": [],
   "source": [
    "y = np.array(df.score.values)"
   ]
  },
  {
   "cell_type": "code",
   "execution_count": 17,
   "id": "34374bc7-bbe6-49ec-ae34-b7743f810e64",
   "metadata": {},
   "outputs": [],
   "source": [
    "y_pren = 8*df.hours.values-15"
   ]
  },
  {
   "cell_type": "code",
   "execution_count": 19,
   "id": "698bc1bb-f8bf-48ac-b79f-734eb758eb56",
   "metadata": {},
   "outputs": [
    {
     "ename": "AttributeError",
     "evalue": "'numpy.ndarray' object has no attribute 'head'",
     "output_type": "error",
     "traceback": [
      "\u001b[1;31m---------------------------------------------------------------------------\u001b[0m",
      "\u001b[1;31mAttributeError\u001b[0m                            Traceback (most recent call last)",
      "Cell \u001b[1;32mIn[19], line 1\u001b[0m\n\u001b[1;32m----> 1\u001b[0m y\u001b[38;5;241m.\u001b[39mhead()\n",
      "\u001b[1;31mAttributeError\u001b[0m: 'numpy.ndarray' object has no attribute 'head'"
     ]
    }
   ],
   "source": [
    "y.head()"
   ]
  },
  {
   "cell_type": "code",
   "execution_count": 21,
   "id": "f08ada2b-d8b0-4672-9817-2586097ca420",
   "metadata": {},
   "outputs": [
    {
     "data": {
      "text/plain": [
       "array([56, 70, 51, 24, 30, 66, 48, 30, 66, 48, 36, 42, 61, 39, 87],\n",
       "      dtype=int64)"
      ]
     },
     "execution_count": 21,
     "metadata": {},
     "output_type": "execute_result"
    }
   ],
   "source": [
    "y"
   ]
  },
  {
   "cell_type": "code",
   "execution_count": 23,
   "id": "fd3d5e5a-45ad-4479-b54b-7848fdc12489",
   "metadata": {},
   "outputs": [
    {
     "data": {
      "text/plain": [
       "array([49., 73., 57., 25., 45., 61., 49., 69., 57., 61., 49., 69., 57.,\n",
       "       37., 57.])"
      ]
     },
     "execution_count": 23,
     "metadata": {},
     "output_type": "execute_result"
    }
   ],
   "source": [
    "y_pren"
   ]
  },
  {
   "cell_type": "code",
   "execution_count": 25,
   "id": "e68e7311-0584-4baf-b3f7-6b508c64937b",
   "metadata": {},
   "outputs": [
    {
     "data": {
      "text/plain": [
       "11.666666666666666"
      ]
     },
     "execution_count": 25,
     "metadata": {},
     "output_type": "execute_result"
    }
   ],
   "source": [
    "from sklearn.metrics import mean_absolute_error\n",
    "mae=mean_absolute_error(y,y_pren)\n",
    "mae"
   ]
  },
  {
   "cell_type": "code",
   "execution_count": 27,
   "id": "e3091415-faea-4243-bd1d-27ec7da0d2c8",
   "metadata": {},
   "outputs": [
    {
     "data": {
      "text/plain": [
       "16.19670748434179"
      ]
     },
     "execution_count": 27,
     "metadata": {},
     "output_type": "execute_result"
    }
   ],
   "source": [
    "from sklearn.metrics import root_mean_squared_error\n",
    "rmse = root_mean_squared_error(y,y_pren)\n",
    "rmse"
   ]
  },
  {
   "cell_type": "code",
   "execution_count": 29,
   "id": "6969c61b-a8d7-403f-ba29-5db4f3bc8749",
   "metadata": {},
   "outputs": [
    {
     "data": {
      "text/plain": [
       "0.08550756073376287"
      ]
     },
     "execution_count": 29,
     "metadata": {},
     "output_type": "execute_result"
    }
   ],
   "source": [
    "from sklearn.metrics import r2_score\n",
    "r2= r2_score(y,y_pren)\n",
    "r2"
   ]
  },
  {
   "cell_type": "code",
   "execution_count": null,
   "id": "e20a900a-3105-41d3-8149-e0facc3ca717",
   "metadata": {},
   "outputs": [],
   "source": []
  }
 ],
 "metadata": {
  "kernelspec": {
   "display_name": "Python 3 (ipykernel)",
   "language": "python",
   "name": "python3"
  },
  "language_info": {
   "codemirror_mode": {
    "name": "ipython",
    "version": 3
   },
   "file_extension": ".py",
   "mimetype": "text/x-python",
   "name": "python",
   "nbconvert_exporter": "python",
   "pygments_lexer": "ipython3",
   "version": "3.12.4"
  }
 },
 "nbformat": 4,
 "nbformat_minor": 5
}
